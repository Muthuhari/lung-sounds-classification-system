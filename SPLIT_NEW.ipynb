{
 "cells": [
  {
   "cell_type": "code",
   "execution_count": 1,
   "id": "755caee0",
   "metadata": {},
   "outputs": [],
   "source": [
    "# Splitiing the sound data files "
   ]
  },
  {
   "cell_type": "code",
   "execution_count": 2,
   "id": "537e9491",
   "metadata": {},
   "outputs": [
    {
     "name": "stdout",
     "output_type": "stream",
     "text": [
      "Requirement already satisfied: split_folders in c:\\users\\dell\\anaconda3\\lib\\site-packages (0.5.1)\n"
     ]
    }
   ],
   "source": [
    "#install split folders\n",
    "!pip install split_folders\n"
   ]
  },
  {
   "cell_type": "code",
   "execution_count": 3,
   "id": "f8e743c5",
   "metadata": {},
   "outputs": [],
   "source": [
    "import splitfolders\n",
    "\n",
    "import os"
   ]
  },
  {
   "cell_type": "code",
   "execution_count": 5,
   "id": "0da06d78",
   "metadata": {},
   "outputs": [],
   "source": [
    "os.makedirs('output/train')\n",
    "os.makedirs('output/val')"
   ]
  },
  {
   "cell_type": "code",
   "execution_count": 6,
   "id": "003669ff",
   "metadata": {},
   "outputs": [
    {
     "name": "stderr",
     "output_type": "stream",
     "text": [
      "Copying files: 6898 files [01:42, 67.55 files/s] \n"
     ]
    }
   ],
   "source": [
    "audio_location = 'E:/SLICE/output/'\n",
    "\n",
    "splitfolders.ratio(audio_location, output='output', seed=1337, ratio=(0.8, 0.2))"
   ]
  },
  {
   "cell_type": "code",
   "execution_count": null,
   "id": "7e957000",
   "metadata": {},
   "outputs": [],
   "source": []
  }
 ],
 "metadata": {
  "kernelspec": {
   "display_name": "Python 3 (ipykernel)",
   "language": "python",
   "name": "python3"
  },
  "language_info": {
   "codemirror_mode": {
    "name": "ipython",
    "version": 3
   },
   "file_extension": ".py",
   "mimetype": "text/x-python",
   "name": "python",
   "nbconvert_exporter": "python",
   "pygments_lexer": "ipython3",
   "version": "3.9.7"
  }
 },
 "nbformat": 4,
 "nbformat_minor": 5
}
